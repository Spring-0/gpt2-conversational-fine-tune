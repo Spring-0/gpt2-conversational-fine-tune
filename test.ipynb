{
 "cells": [
  {
   "cell_type": "code",
   "id": "initial_id",
   "metadata": {
    "collapsed": true
   },
   "source": [
    "import torch\n",
    "from transformers import GPT2LMHeadModel, GPT2Tokenizer"
   ],
   "outputs": [],
   "execution_count": null
  },
  {
   "metadata": {},
   "cell_type": "code",
   "source": [
    "model = GPT2LMHeadModel.from_pretrained(r\".\\models\\trained-model-v2\").to(\"cuda\")\n",
    "tokenizer = GPT2Tokenizer.from_pretrained(r\".\\models\\trained-model-v2\")"
   ],
   "id": "d1330ef7c2c2260a",
   "outputs": [],
   "execution_count": null
  },
  {
   "metadata": {},
   "cell_type": "code",
   "source": [
    "def generate_response(prompt, model, tokenizer, temperature=0.9):\n",
    "    inputs = tokenizer(prompt, return_tensors=\"pt\", truncation=False, padding=False).to(\"cuda\")\n",
    "    \n",
    "    # Generate a response\n",
    "    output = model.generate(\n",
    "        inputs.input_ids,\n",
    "        pad_token_id=tokenizer.eos_token_id,\n",
    "        eos_token_id=tokenizer.eos_token_id,\n",
    "        do_sample=True,\n",
    "        temperature=temperature,\n",
    "    )\n",
    "    \n",
    "    # Decode the generated text\n",
    "    return tokenizer.decode(output[0], skip_special_tokens=True)\n"
   ],
   "id": "eec7cfce1e4f6fb9",
   "outputs": [],
   "execution_count": null
  },
  {
   "metadata": {},
   "cell_type": "code",
   "source": [
    "prompt = f\"<USER>: {input(\"Enter Prompt: \")} <BOT>:\"\n",
    "response = generate_response(prompt, model, tokenizer)\n",
    "\n",
    "print(\"Response:\", response)"
   ],
   "id": "54cf813ba0bc5cc2",
   "outputs": [],
   "execution_count": null
  }
 ],
 "metadata": {
  "kernelspec": {
   "display_name": "Python 3",
   "language": "python",
   "name": "python3"
  },
  "language_info": {
   "codemirror_mode": {
    "name": "ipython",
    "version": 2
   },
   "file_extension": ".py",
   "mimetype": "text/x-python",
   "name": "python",
   "nbconvert_exporter": "python",
   "pygments_lexer": "ipython2",
   "version": "2.7.6"
  }
 },
 "nbformat": 4,
 "nbformat_minor": 5
}
