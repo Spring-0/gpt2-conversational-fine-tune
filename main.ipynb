{
 "cells": [
  {
   "cell_type": "code",
   "id": "initial_id",
   "metadata": {
    "collapsed": true
   },
   "source": [
    "# Install dependencies (restart environment after installation)\n",
    "%pip install transformers\n",
    "%pip install matplotlib\n",
    "%pip install torch torchvision torchaudio --index-url https://download.pytorch.org/whl/cu124\n",
    "%pip install accelerate\n",
    "%pip install pandas\n",
    "%pip install datasets\n",
    "%pip install numpy\n",
    "%pip install evaluate"
   ],
   "outputs": [],
   "execution_count": null
  },
  {
   "metadata": {},
   "cell_type": "code",
   "source": [
    "# import dependencies\n",
    "from matplotlib import pyplot as plt\n",
    "from transformers import AutoTokenizer, AutoModelForCausalLM, GPTJForCausalLM, TrainingArguments, Trainer, \\\n",
    "    DataCollatorForLanguageModeling\n",
    "import torch\n",
    "import pandas as pd\n",
    "import numpy as np"
   ],
   "id": "d3512e968e3f9005",
   "outputs": [],
   "execution_count": null
  },
  {
   "metadata": {},
   "cell_type": "code",
   "source": [
    "# check for cuda gpu\n",
    "print(\"GPU Available: \", torch.cuda.is_available())"
   ],
   "id": "47bc275a1cc78b79",
   "outputs": [],
   "execution_count": null
  },
  {
   "metadata": {},
   "cell_type": "code",
   "source": [
    "# load ElutherAi gpt-j model\n",
    "tokenizer = AutoTokenizer.from_pretrained(\"EleutherAI/gpt-j-6B\")\n",
    "\n",
    "if tokenizer.pad_token is None:\n",
    "    tokenizer.pad_token = tokenizer.eos_token\n",
    "\n",
    "model = GPTJForCausalLM.from_pretrained(\"EleutherAI/gpt-j-6B\", torch_dtype=torch.float16)"
   ],
   "id": "e1c20748c9ca56be",
   "outputs": [],
   "execution_count": null
  },
  {
   "metadata": {},
   "cell_type": "code",
   "source": "model.eval()",
   "id": "d15531503f82196a",
   "outputs": [],
   "execution_count": null
  },
  {
   "metadata": {},
   "cell_type": "code",
   "source": "model.save_pretrained(\"./model\", safe_serialization=True)",
   "id": "955b6dd4e47621a8",
   "outputs": [],
   "execution_count": null
  },
  {
   "metadata": {},
   "cell_type": "code",
   "source": [
    "prompt = (\n",
    "    \"What are you thoughts on today's weather?\"\n",
    ")\n",
    "\n",
    "# input_ids = tokenizer(prompt, return_tensors=\"pt\", padding=True, truncation=True, max_length=128).input_ids.to(\"cuda\")\n",
    "\n",
    "input_ids = tokenizer.encode(prompt, return_tensors=\"pt\", max_length=128, padding=True, truncation=True).to(\"cuda\")\n",
    "\n",
    "gen_tokens = model.generate(\n",
    "    input_ids,\n",
    "    pad_token_id=tokenizer.eos_token_id,\n",
    "    eos_token_id=tokenizer.eos_token_id,\n",
    "    do_sample=True,\n",
    "    temperature=0.9,\n",
    "    max_new_tokens=150,\n",
    ")"
   ],
   "id": "24cfe7040e470320",
   "outputs": [],
   "execution_count": null
  },
  {
   "metadata": {},
   "cell_type": "code",
   "source": [
    "# Output from pre-trained model\n",
    "gen_text = tokenizer.batch_decode(gen_tokens)[0]\n",
    "print(gen_text)\n"
   ],
   "id": "8da1022673ce0f1d",
   "outputs": [],
   "execution_count": null
  },
  {
   "metadata": {},
   "cell_type": "code",
   "source": [
    "# Load dataset into pandas data-frame\n",
    "splits = {'train': 'train.csv', 'validation': 'validation.csv', 'test': 'test.csv'}\n",
    "df = pd.read_csv(\"hf://datasets/knkarthick/dialogsum/\" + splits[\"train\"])"
   ],
   "id": "9de753d60f743c3",
   "outputs": [],
   "execution_count": null
  },
  {
   "metadata": {},
   "cell_type": "code",
   "source": "df.head()",
   "id": "7ded406ffec69957",
   "outputs": [],
   "execution_count": null
  },
  {
   "metadata": {},
   "cell_type": "code",
   "source": [
    "# Load dataset for fine-tuning\n",
    "from datasets import load_dataset\n",
    "\n",
    "ds = load_dataset(\"knkarthick/dialogsum\")"
   ],
   "id": "3dbde3301a8de82e",
   "outputs": [],
   "execution_count": null
  },
  {
   "metadata": {},
   "cell_type": "code",
   "source": [
    "# Tokenize dataset\n",
    "def tokenize(raw_data):\n",
    "    current_tokenizer_result = tokenizer(raw_data[\"dialogue\"], padding=\"max_length\", truncation=True)\n",
    "    return current_tokenizer_result\n",
    "\n",
    "tokenized_dataset = ds.map(tokenize, batched=True)"
   ],
   "id": "28c482ad61074d0f",
   "outputs": [],
   "execution_count": null
  },
  {
   "metadata": {},
   "cell_type": "code",
   "source": [
    "# Take portion of dataset for testing\n",
    "small_train_dataset = tokenized_dataset[\"train\"].select(range(20))\n",
    "small_test_dataset = tokenized_dataset[\"test\"].select(range(20))"
   ],
   "id": "b34f1640b609f88",
   "outputs": [],
   "execution_count": null
  },
  {
   "metadata": {},
   "cell_type": "code",
   "source": [
    "# Define parameters for training\n",
    "training_config = TrainingArguments(\n",
    "    output_dir = \"./fine_tuned_models/gpt-j-6B\",\n",
    "    report_to=\"all\",\n",
    "    logging_dir = \"./logs\",\n",
    "    per_device_train_batch_size=1,\n",
    "    use_cpu=False\n",
    ")"
   ],
   "id": "ab2cb84b38d163ba",
   "outputs": [],
   "execution_count": null
  },
  {
   "metadata": {},
   "cell_type": "code",
   "source": [
    "import evaluate\n",
    "\n",
    "# Define function for metrics computation\n",
    "metric = evaluate.load(\"accuracy\")\n",
    "\n",
    "def compute_metrics(evaluate_prediction):\n",
    "    logits, labels = evaluate_prediction\n",
    "    predictions = np.argmax(logits, axis=-1)\n",
    "    return metric.compute(predictions=predictions, references=labels)"
   ],
   "id": "474d2150fc76ff1f",
   "outputs": [],
   "execution_count": null
  },
  {
   "metadata": {},
   "cell_type": "code",
   "source": [
    "# Create data collator to prevent out of memory error\n",
    "data_collator = DataCollatorForLanguageModeling(tokenizer, mlm=False)"
   ],
   "id": "94f100a8c15da162",
   "outputs": [],
   "execution_count": null
  },
  {
   "metadata": {},
   "cell_type": "code",
   "source": [
    "# Train the model\n",
    "trainer = Trainer(\n",
    "    model = model,\n",
    "    args = training_config,\n",
    "    train_dataset = small_train_dataset,\n",
    "    eval_dataset = small_test_dataset,\n",
    "    compute_metrics = compute_metrics,\n",
    "    data_collator = data_collator,\n",
    ")\n",
    "\n",
    "print(\"Started training.\")\n",
    "trainer.train()\n",
    "print(f\"Finished training.\")"
   ],
   "id": "e15cfcdcb86c8e",
   "outputs": [],
   "execution_count": null
  },
  {
   "metadata": {},
   "cell_type": "code",
   "source": "",
   "id": "e3f4266745464a2b",
   "outputs": [],
   "execution_count": null
  }
 ],
 "metadata": {
  "kernelspec": {
   "display_name": "Python 3",
   "language": "python",
   "name": "python3"
  },
  "language_info": {
   "codemirror_mode": {
    "name": "ipython",
    "version": 2
   },
   "file_extension": ".py",
   "mimetype": "text/x-python",
   "name": "python",
   "nbconvert_exporter": "python",
   "pygments_lexer": "ipython2",
   "version": "2.7.6"
  }
 },
 "nbformat": 4,
 "nbformat_minor": 5
}
