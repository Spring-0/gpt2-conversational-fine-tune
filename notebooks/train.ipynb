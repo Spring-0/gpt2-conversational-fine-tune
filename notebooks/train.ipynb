{
 "cells": [
  {
   "cell_type": "code",
   "execution_count": null,
   "id": "initial_id",
   "metadata": {
    "colab": {
     "base_uri": "https://localhost:8080/"
    },
    "collapsed": true,
    "executionInfo": {
     "elapsed": 34716,
     "status": "ok",
     "timestamp": 1734480687346,
     "user": {
      "displayName": "Takis Panel",
      "userId": "10823998020771479779"
     },
     "user_tz": 300
    },
    "id": "initial_id",
    "outputId": "776ae0f0-6d76-43e5-a5b1-3b6eb73be87b"
   },
   "outputs": [],
   "source": [
    "# Install dependencies (restart environment after installation)\n",
    "%pip install transformers\n",
    "# %pip install matplotlib\n",
    "%pip install torch --index-url https://download.pytorch.org/whl/cu124\n",
    "%pip install accelerate\n",
    "%pip install pandas\n",
    "%pip install datasets\n",
    "%pip install numpy\n",
    "# %pip install evaluate"
   ]
  },
  {
   "cell_type": "code",
   "execution_count": null,
   "id": "d3512e968e3f9005",
   "metadata": {
    "ExecuteTime": {
     "end_time": "2024-12-09T19:32:25.666835Z",
     "start_time": "2024-12-09T19:32:19.881154Z"
    },
    "id": "d3512e968e3f9005"
   },
   "outputs": [],
   "source": [
    "# import dependencies\n",
    "from transformers import GPT2Tokenizer, GPT2LMHeadModel, TrainingArguments, Trainer, GPT2Config\n",
    "import torch\n",
    "import pandas as pd\n",
    "from sklearn.model_selection import train_test_split\n",
    "from torch.utils.data import TensorDataset"
   ]
  },
  {
   "cell_type": "code",
   "execution_count": null,
   "id": "47bc275a1cc78b79",
   "metadata": {
    "ExecuteTime": {
     "end_time": "2024-12-09T19:38:52.813793Z",
     "start_time": "2024-12-09T19:38:52.810485Z"
    },
    "colab": {
     "base_uri": "https://localhost:8080/"
    },
    "executionInfo": {
     "elapsed": 283,
     "status": "ok",
     "timestamp": 1734516281452,
     "user": {
      "displayName": "zavier bolton",
      "userId": "04885396205510778181"
     },
     "user_tz": 300
    },
    "id": "47bc275a1cc78b79",
    "outputId": "666b5bde-a7ee-4f97-b208-0adae8fa7e27"
   },
   "outputs": [],
   "source": [
    "# check for cuda gpu\n",
    "print(f\"[!] GPU Available: {torch.cuda.is_available()}\")"
   ]
  },
  {
   "cell_type": "code",
   "execution_count": null,
   "id": "e1c20748c9ca56be",
   "metadata": {
    "ExecuteTime": {
     "end_time": "2024-12-09T19:38:57.973832Z",
     "start_time": "2024-12-09T19:38:57.969965Z"
    },
    "id": "e1c20748c9ca56be"
   },
   "outputs": [],
   "source": [
    "# load gpt-2 model and tokenizer\n",
    "def load_model_and_tokenizer(local_path=\"./model\", model_name=\"gpt2\"):\n",
    "    if False:#os.path.exists(local_path):\n",
    "        print(\"[+] loading model from local directory.\")\n",
    "        model = GPT2LMHeadModel.from_pretrained(local_path).to(\"cuda\")\n",
    "        tokenizer = None\n",
    "        try:\n",
    "          tokenizer = GPT2Tokenizer.from_pretrained(local_path)\n",
    "        except:\n",
    "          tokenizer = GPT2Tokenizer.from_pretrained(\"gpt2\")\n",
    "    else:\n",
    "        print(\"[+] loading model from Hugging-Face hub\")\n",
    "\n",
    "        config = GPT2Config.from_pretrained(\"gpt2\")\n",
    "\n",
    "        config.hidden_dropout_prob = 0.1\n",
    "        config.attention_probs_dropout_prob = 0.1\n",
    "\n",
    "        model = GPT2LMHeadModel.from_pretrained(model_name, config=config).to(\"cuda\")\n",
    "        # model = GPT2LMHeadModel.from_pretrained(model_name).to(\"cuda\")\n",
    "\n",
    "        tokenizer = GPT2Tokenizer.from_pretrained(model_name)\n",
    "\n",
    "    if tokenizer.pad_token == None:\n",
    "      tokenizer.pad_token = tokenizer.eos_token\n",
    "\n",
    "    return model, tokenizer"
   ]
  },
  {
   "cell_type": "code",
   "execution_count": null,
   "id": "9de753d60f743c3",
   "metadata": {
    "ExecuteTime": {
     "end_time": "2024-12-09T19:38:59.678491Z",
     "start_time": "2024-12-09T19:38:59.673541Z"
    },
    "id": "9de753d60f743c3"
   },
   "outputs": [],
   "source": [
    "# Pre-process \"All-seasons.csv\" (south park dialog dataset)\n",
    "def preprocess_south_park_dialog_data(tokenizer, file_path=\"./data/All-seasons.csv\"):\n",
    "    dialog_data = []\n",
    "\n",
    "    df = pd.read_csv(file_path, encoding=\"utf-8\")\n",
    "    lines = df[\"Line\"].dropna().values\n",
    "\n",
    "    # Structure training data format\n",
    "    for i in range(0, len(lines) - 1, 2):\n",
    "        user = lines[i]\n",
    "        bot = lines[i+1]\n",
    "        dialog_data.append(f\"<USER>: {user} {tokenizer.eos_token}\\n<BOT>: {bot}{tokenizer.eos_token}\\n\")\n",
    "\n",
    "    # Visualize data - printing the last 2 elements\n",
    "    print(\"\\n[+] Visualizing pre-processed south park dataset.\")\n",
    "    print(dialog_data[:2])\n",
    "\n",
    "    return dialog_data"
   ]
  },
  {
   "cell_type": "code",
   "execution_count": null,
   "id": "60c5c3cfaf792526",
   "metadata": {
    "ExecuteTime": {
     "end_time": "2024-12-09T19:39:01.454941Z",
     "start_time": "2024-12-09T19:39:01.451447Z"
    },
    "id": "60c5c3cfaf792526"
   },
   "outputs": [],
   "source": [
    "# Tokenize dialog data\n",
    "def tokenize_data(data, tokenizer, max_length=1024):\n",
    "    return tokenizer(data, return_tensors=\"pt\", padding=True, truncation=True, max_length=max_length)"
   ]
  },
  {
   "cell_type": "code",
   "execution_count": null,
   "id": "efea00349a680a41",
   "metadata": {
    "ExecuteTime": {
     "end_time": "2024-12-09T19:39:02.941607Z",
     "start_time": "2024-12-09T19:39:02.936848Z"
    },
    "id": "efea00349a680a41"
   },
   "outputs": [],
   "source": [
    "def data_collator(data):\n",
    "    input_ids = torch.stack([f[0] for f in data])\n",
    "    attention_mask = torch.stack([f[1] for f in data])\n",
    "\n",
    "    labels = input_ids.clone()\n",
    "    labels[input_ids == tokenizer.pad_token_id] = -100\n",
    "\n",
    "    return {\n",
    "        \"input_ids\": input_ids,\n",
    "        \"attention_mask\": attention_mask,\n",
    "        \"labels\": labels\n",
    "    }"
   ]
  },
  {
   "cell_type": "code",
   "execution_count": null,
   "id": "e7bdaac3696c9d4f",
   "metadata": {
    "ExecuteTime": {
     "end_time": "2024-12-09T19:39:04.597328Z",
     "start_time": "2024-12-09T19:39:04.594391Z"
    },
    "id": "e7bdaac3696c9d4f"
   },
   "outputs": [],
   "source": [
    "import re\n",
    "\n",
    "# Function to check for english text\n",
    "def is_english(text):\n",
    "  pattern = r'^[A-Za-z0-9\\s.,!?\\'\":;()&*%#$@^_+-=<>{}[\\]\\\\/|]*$'\n",
    "  return bool(re.match(pattern, text))"
   ]
  },
  {
   "cell_type": "code",
   "execution_count": null,
   "id": "70c6e1a4724cc076",
   "metadata": {
    "ExecuteTime": {
     "end_time": "2024-12-09T19:54:33.210120Z",
     "start_time": "2024-12-09T19:54:33.206610Z"
    },
    "id": "70c6e1a4724cc076"
   },
   "outputs": [],
   "source": [
    "def get_train_eval_data(tokenized_data, test_size=0.2, random_state=42):\n",
    "    # Tokenize the data\n",
    "    input_ids = tokenized_data[\"input_ids\"]\n",
    "    attention_mask = tokenized_data[\"attention_mask\"]\n",
    "\n",
    "    # Split the data\n",
    "    train_input_ids, eval_input_ids, train_attention_mask, eval_attention_mask = train_test_split(\n",
    "        input_ids, attention_mask, test_size=test_size, random_state=random_state\n",
    "    )\n",
    "\n",
    "    # Create the TensorDataset objects\n",
    "    train_dataset = TensorDataset(train_input_ids, train_attention_mask)\n",
    "    eval_dataset = TensorDataset(eval_input_ids, eval_attention_mask)\n",
    "\n",
    "    return train_dataset, eval_dataset"
   ]
  },
  {
   "cell_type": "code",
   "execution_count": null,
   "id": "73ee33f908ef0c55",
   "metadata": {
    "ExecuteTime": {
     "end_time": "2024-12-09T19:39:08.077006Z",
     "start_time": "2024-12-09T19:39:08.073543Z"
    },
    "id": "73ee33f908ef0c55"
   },
   "outputs": [],
   "source": [
    "def save_model_and_tokenizer(model, tokenizer, local_path=\"/content/drive/MyDrive/gpt2-finetuning-new/final-save\"):\n",
    "    print(f\"\\n[+] saving model & tokenizer to: {local_path}\")\n",
    "    model.save_pretrained(local_path)\n",
    "    tokenizer.save_pretrained(local_path)"
   ]
  },
  {
   "cell_type": "code",
   "execution_count": null,
   "id": "ab2cb84b38d163ba",
   "metadata": {
    "ExecuteTime": {
     "end_time": "2024-12-09T19:39:09.834194Z",
     "start_time": "2024-12-09T19:39:09.829539Z"
    },
    "id": "ab2cb84b38d163ba"
   },
   "outputs": [],
   "source": [
    "def get_training_arguments(learning_rate=3e-5, epochs=5):\n",
    "    # Define parameters for training\n",
    "    training_config = TrainingArguments(\n",
    "        output_dir=\"/content/drive/MyDrive/gpt2-finetuning-new\",\n",
    "        # overwrite_output_dir=True,\n",
    "        per_device_train_batch_size=32,\n",
    "        per_device_eval_batch_size=32,\n",
    "        eval_strategy=\"steps\",\n",
    "        save_steps=500,\n",
    "        num_train_epochs=epochs,\n",
    "        save_total_limit=epochs,\n",
    "        logging_dir=\"./logs\",\n",
    "        logging_steps=10,\n",
    "        warmup_steps=500,\n",
    "        weight_decay=0.01,\n",
    "        use_cpu=False,\n",
    "        eval_steps=100,\n",
    "        learning_rate=learning_rate,\n",
    "        resume_from_checkpoint=True,\n",
    "    )\n",
    "\n",
    "    return training_config"
   ]
  },
  {
   "cell_type": "code",
   "execution_count": null,
   "id": "b4214f6e7b859601",
   "metadata": {
    "ExecuteTime": {
     "end_time": "2024-12-09T19:54:51.744114Z",
     "start_time": "2024-12-09T19:54:51.740421Z"
    },
    "id": "b4214f6e7b859601"
   },
   "outputs": [],
   "source": [
    "def train_model(model, train_data, eval_data, tokenizer, training_args):\n",
    "    trainer = Trainer(\n",
    "        model=model,\n",
    "        args=training_args,\n",
    "        train_dataset=train_data,\n",
    "        eval_dataset=eval_data,\n",
    "        data_collator=data_collator,\n",
    "    )\n",
    "\n",
    "    # Start training\n",
    "    trainer.train()\n",
    "\n",
    "    # Save model after training\n",
    "    save_model_and_tokenizer(model, tokenizer)"
   ]
  },
  {
   "cell_type": "code",
   "execution_count": null,
   "id": "68f76cbc7c4414fc",
   "metadata": {
    "ExecuteTime": {
     "end_time": "2024-12-09T19:40:47.570516Z",
     "start_time": "2024-12-09T19:39:16.199565Z"
    },
    "id": "68f76cbc7c4414fc"
   },
   "outputs": [],
   "source": [
    "model, tokenizer = load_model_and_tokenizer()\n",
    "dialog_data = preprocess_south_park_dialog_data(tokenizer)\n",
    "\n",
    "tokenized_data = tokenize_data(dialog_data, tokenizer)\n",
    "\n",
    "train_data, eval_data = get_train_eval_data(tokenized_data)\n",
    "\n",
    "train_model(model, train_data, eval_data, tokenizer, get_training_arguments())\n"
   ]
  },
  {
   "cell_type": "markdown",
   "id": "41fedbf9f75c2983",
   "metadata": {
    "id": "41fedbf9f75c2983"
   },
   "source": [
    "# Training on New Dataset\n",
    "Fine-tuning on new dialog dataset - \"casual_data_windows.csv\" from reddit conversations."
   ]
  },
  {
   "cell_type": "code",
   "execution_count": null,
   "id": "ivYIjl05SP6-",
   "metadata": {
    "ExecuteTime": {
     "end_time": "2024-12-09T19:43:39.960342Z",
     "start_time": "2024-12-09T19:43:39.331554Z"
    },
    "colab": {
     "base_uri": "https://localhost:8080/",
     "height": 154,
     "referenced_widgets": [
      "ef8b198cd86040d18d1f81deb896e6d7",
      "a36322073ff74d87a6b781018491bbc9",
      "e5062b049dcb484ebd52cc019d6f7e29",
      "4547967057a64d27831ec0af327b156a",
      "751e998e565149f2aeb91b654d479483",
      "a8fe017a21c144d0a2ecd956853896eb",
      "f5d62a1b5f904fcdb8862b94495fd22f",
      "8ec4794c9a5e44e0be71ce2aac545444",
      "91053800c04744d3a3c93d75f291aeec",
      "a0fffe7f5aa541b59423e17aafe6f781",
      "73660515b5e943779b0f2638718765f6",
      "30bd4ca6b2e2416cb5ca7d5c1e0ff6ce",
      "0b10951f13314714a745df6a055647b4",
      "27cb67089e614c3caa829e5356b35dad",
      "ebc410f7af494e1b83fc26d1cc0ea8a6",
      "aa241a5be4b54839bf1ffad06cee5653",
      "397156ef497844368d7e3b514405bc68",
      "056121dcc9f4428ab8573ca0aa32a89f",
      "5bd4bd455d46476bbbc139211c2f0e11",
      "e28e278b14bd42bca6781520e58f2587",
      "763604d836424caeb97c61526060df58",
      "864fb7f2df754f1fa5c6e812181c01fa"
     ]
    },
    "executionInfo": {
     "elapsed": 9599,
     "status": "ok",
     "timestamp": 1734519561930,
     "user": {
      "displayName": "zavier bolton",
      "userId": "04885396205510778181"
     },
     "user_tz": 300
    },
    "id": "ivYIjl05SP6-",
    "outputId": "f0637dd6-1a03-4caf-b244-d7bf8670bbd5"
   },
   "outputs": [],
   "source": [
    "import os\n",
    "# Load model and tokenizer\n",
    "# model, tokenizer = load_model_and_tokenizer(\"/content/drive/MyDrive/gpt2-finetuning-new/checkpoint-4500\")\n",
    "mode, tokenizer = load_model_and_tokenizer()"
   ]
  },
  {
   "cell_type": "code",
   "execution_count": null,
   "id": "NgyUk61vHYYJ",
   "metadata": {
    "colab": {
     "base_uri": "https://localhost:8080/"
    },
    "executionInfo": {
     "elapsed": 26516,
     "status": "ok",
     "timestamp": 1734516241158,
     "user": {
      "displayName": "zavier bolton",
      "userId": "04885396205510778181"
     },
     "user_tz": 300
    },
    "id": "NgyUk61vHYYJ",
    "outputId": "0d2b8626-897c-4b63-9318-ba785f2d6b38"
   },
   "outputs": [],
   "source": [
    "from google.colab import drive\n",
    "drive.mount('/content/drive/')"
   ]
  },
  {
   "cell_type": "code",
   "execution_count": null,
   "id": "5968c86d9ce9a4ee",
   "metadata": {
    "ExecuteTime": {
     "end_time": "2024-12-09T19:43:58.991261Z",
     "start_time": "2024-12-09T19:43:51.537907Z"
    },
    "id": "5968c86d9ce9a4ee"
   },
   "outputs": [],
   "source": [
    "# Pre-process new dataset: \"casual_data_windows.csv\"\n",
    "df = pd.read_csv(\"/content/data/casual_data_windows.csv\", encoding=\"utf-8\")\n",
    "\n",
    "# Drop unused column\n",
    "df = df.drop(columns=[\"2\"])\n",
    "\n",
    "# Remove rows where C2 and C3 share data\n",
    "df = df[df[\"0\"] != df[\"1\"]]\n",
    "\n",
    "# Remove duplicates in columns\n",
    "df = df.drop_duplicates(subset=[\"0\", \"1\"])\n",
    "\n",
    "# Drop rows with any empty cells\n",
    "df = df.dropna()"
   ]
  },
  {
   "cell_type": "code",
   "execution_count": null,
   "id": "951c32237024587f",
   "metadata": {
    "ExecuteTime": {
     "end_time": "2024-12-09T19:44:18.872644Z",
     "start_time": "2024-12-09T19:44:18.863668Z"
    },
    "colab": {
     "base_uri": "https://localhost:8080/",
     "height": 990
    },
    "executionInfo": {
     "elapsed": 447,
     "status": "ok",
     "timestamp": 1734527065720,
     "user": {
      "displayName": "zavier bolton",
      "userId": "04885396205510778181"
     },
     "user_tz": 300
    },
    "id": "951c32237024587f",
    "outputId": "44b64235-88b8-4f23-9c85-62336603713f"
   },
   "outputs": [],
   "source": [
    "#  Visualize dataset\n",
    "df.head(30)"
   ]
  },
  {
   "cell_type": "code",
   "execution_count": null,
   "id": "60eefa49",
   "metadata": {
    "id": "60eefa49"
   },
   "outputs": [],
   "source": [
    "import html\n",
    "import re\n",
    "\n",
    "def clean_user_and_subreddit_mention(text):\n",
    "    text = re.sub(r\"\\bu/[a-zA-Z0-9_]+\\b\", \"USER_MENTION\", text)\n",
    "    text = re.sub(r\"\\br/[a-zA-Z0-9_]+\\b\", \"CHANNEL_MENTION\", text)\n",
    "    return text\n",
    "\n",
    "def clean_text(text):\n",
    "    text = html.unescape(text)\n",
    "    text = text.replace(\"\\r\\n\", \" \").strip()\n",
    "    text = \" \".join(text.split())\n",
    "    return text\n",
    "\n",
    "def remove_emoticon(text):\n",
    "    return re.sub(r'[^\\w\\s,.;()!]', '', text)\n",
    "\n",
    "df[\"0\"] = df[\"0\"].apply(clean_user_and_subreddit_mention).apply(clean_text).apply(remove_emoticon)\n",
    "df[\"1\"] = df[\"1\"].apply(clean_user_and_subreddit_mention).apply(clean_text).apply(remove_emoticon)\n",
    "\n",
    "df = df[df[\"0\"].str.strip().ne(\"\") & df[\"1\"].str.strip().ne(\"\")]\n",
    "df = df.reset_index(drop=True)\n"
   ]
  },
  {
   "cell_type": "code",
   "execution_count": null,
   "id": "0bc91c8f",
   "metadata": {
    "colab": {
     "base_uri": "https://localhost:8080/",
     "height": 677
    },
    "executionInfo": {
     "elapsed": 310,
     "status": "ok",
     "timestamp": 1734519571229,
     "user": {
      "displayName": "zavier bolton",
      "userId": "04885396205510778181"
     },
     "user_tz": 300
    },
    "id": "0bc91c8f",
    "outputId": "5e2f6dcb-ad29-4f53-a952-224260e45b17"
   },
   "outputs": [],
   "source": [
    "df.sample(20)"
   ]
  },
  {
   "cell_type": "code",
   "execution_count": null,
   "id": "7b80d21b507d05c7",
   "metadata": {
    "ExecuteTime": {
     "end_time": "2024-12-09T19:46:50.951124Z",
     "start_time": "2024-12-09T19:46:48.169526Z"
    },
    "colab": {
     "base_uri": "https://localhost:8080/"
    },
    "executionInfo": {
     "elapsed": 2639,
     "status": "ok",
     "timestamp": 1734516658889,
     "user": {
      "displayName": "zavier bolton",
      "userId": "04885396205510778181"
     },
     "user_tz": 300
    },
    "id": "7b80d21b507d05c7",
    "outputId": "6d577c78-712a-45ac-ac61-d0d5ba7b985b"
   },
   "outputs": [],
   "source": [
    "# Format data for training\n",
    "dialog_data = []\n",
    "illegal_line_count = 0\n",
    "for _, row in df.iterrows():\n",
    "    user = row[\"0\"].strip()\n",
    "    bot = row[\"1\"].strip()\n",
    "\n",
    "    dialog_data.append(f\"<USER> {user}{tokenizer.eos_token} <BOT> {bot}{tokenizer.eos_token}\")\n",
    "\n",
    "    # if is_english(user) and is_english(bot):\n",
    "    #     dialog_data.append(f\"<USER> {user}{tokenizer.eos_token} <BOT> {bot}{tokenizer.eos_token}\")\n",
    "    # else:\n",
    "    #     illegal_line_count += 1\n",
    "\n",
    "print(f\"[-] Removed {illegal_line_count} lines.\")"
   ]
  },
  {
   "cell_type": "code",
   "execution_count": null,
   "id": "1090618a800c6ede",
   "metadata": {
    "ExecuteTime": {
     "end_time": "2024-12-09T19:47:46.042080Z",
     "start_time": "2024-12-09T19:47:46.038657Z"
    },
    "colab": {
     "base_uri": "https://localhost:8080/"
    },
    "executionInfo": {
     "elapsed": 642,
     "status": "ok",
     "timestamp": 1734519578676,
     "user": {
      "displayName": "zavier bolton",
      "userId": "04885396205510778181"
     },
     "user_tz": 300
    },
    "id": "1090618a800c6ede",
    "outputId": "2477f1bb-922d-4322-b2e4-f45e11de883e"
   },
   "outputs": [],
   "source": [
    "print(dialog_data[:10])\n",
    "print(f\"\\n[+] total data samples: {len(dialog_data)}\")"
   ]
  },
  {
   "cell_type": "code",
   "execution_count": null,
   "id": "96eb379c47261336",
   "metadata": {
    "ExecuteTime": {
     "end_time": "2024-12-09T19:54:01.095143Z",
     "start_time": "2024-12-09T19:53:48.835690Z"
    },
    "colab": {
     "base_uri": "https://localhost:8080/"
    },
    "executionInfo": {
     "elapsed": 15565,
     "status": "ok",
     "timestamp": 1734516679460,
     "user": {
      "displayName": "zavier bolton",
      "userId": "04885396205510778181"
     },
     "user_tz": 300
    },
    "id": "96eb379c47261336",
    "outputId": "f15f2ac7-8971-4ddd-a76b-26eefe4d757f"
   },
   "outputs": [],
   "source": [
    "# Tokenize the data\n",
    "tokenized_data = tokenize_data(dialog_data, tokenizer)\n",
    "print(tokenized_data)"
   ]
  },
  {
   "cell_type": "code",
   "execution_count": null,
   "id": "37dcf8db3176c95b",
   "metadata": {
    "ExecuteTime": {
     "end_time": "2024-12-09T19:54:42.767479Z",
     "start_time": "2024-12-09T19:54:42.746988Z"
    },
    "id": "37dcf8db3176c95b"
   },
   "outputs": [],
   "source": [
    "train_data, eval_data = get_train_eval_data(tokenized_data)"
   ]
  },
  {
   "cell_type": "code",
   "execution_count": null,
   "id": "bb5597c280afa5a2",
   "metadata": {
    "ExecuteTime": {
     "end_time": "2024-12-09T19:55:36.176010Z",
     "start_time": "2024-12-09T19:54:55.709607Z"
    },
    "colab": {
     "base_uri": "https://localhost:8080/",
     "height": 865
    },
    "executionInfo": {
     "elapsed": 7477744,
     "status": "ok",
     "timestamp": 1734527065287,
     "user": {
      "displayName": "zavier bolton",
      "userId": "04885396205510778181"
     },
     "user_tz": 300
    },
    "id": "bb5597c280afa5a2",
    "outputId": "0a33dbea-5039-48ea-c0a3-deb44346aba1"
   },
   "outputs": [],
   "source": [
    "train_model(model, train_data, eval_data, tokenizer, get_training_arguments(epochs=2))"
   ]
  },
  {
   "cell_type": "code",
   "execution_count": null,
   "id": "7361c458",
   "metadata": {
    "id": "7361c458"
   },
   "outputs": [],
   "source": [
    "# PYTORCH_CUDA_ALLOC_CONF=expandable_segments:True\n",
    "torch.cuda.empty_cache()"
   ]
  }
 ],
 "metadata": {
  "accelerator": "GPU",
  "colab": {
   "gpuType": "T4",
   "provenance": []
  },
  "kernelspec": {
   "display_name": ".venv",
   "language": "python",
   "name": "python3"
  },
  "language_info": {
   "codemirror_mode": {
    "name": "ipython",
    "version": 3
   },
   "file_extension": ".py",
   "mimetype": "text/x-python",
   "name": "python",
   "nbconvert_exporter": "python",
   "pygments_lexer": "ipython3",
   "version": "3.12.7"
  },
  "widgets": {
   "application/vnd.jupyter.widget-state+json": {
    "056121dcc9f4428ab8573ca0aa32a89f": {
     "model_module": "@jupyter-widgets/controls",
     "model_module_version": "1.5.0",
     "model_name": "DescriptionStyleModel",
     "state": {
      "_model_module": "@jupyter-widgets/controls",
      "_model_module_version": "1.5.0",
      "_model_name": "DescriptionStyleModel",
      "_view_count": null,
      "_view_module": "@jupyter-widgets/base",
      "_view_module_version": "1.2.0",
      "_view_name": "StyleView",
      "description_width": ""
     }
    },
    "0b10951f13314714a745df6a055647b4": {
     "model_module": "@jupyter-widgets/controls",
     "model_module_version": "1.5.0",
     "model_name": "HTMLModel",
     "state": {
      "_dom_classes": [],
      "_model_module": "@jupyter-widgets/controls",
      "_model_module_version": "1.5.0",
      "_model_name": "HTMLModel",
      "_view_count": null,
      "_view_module": "@jupyter-widgets/controls",
      "_view_module_version": "1.5.0",
      "_view_name": "HTMLView",
      "description": "",
      "description_tooltip": null,
      "layout": "IPY_MODEL_397156ef497844368d7e3b514405bc68",
      "placeholder": "​",
      "style": "IPY_MODEL_056121dcc9f4428ab8573ca0aa32a89f",
      "value": "generation_config.json: 100%"
     }
    },
    "27cb67089e614c3caa829e5356b35dad": {
     "model_module": "@jupyter-widgets/controls",
     "model_module_version": "1.5.0",
     "model_name": "FloatProgressModel",
     "state": {
      "_dom_classes": [],
      "_model_module": "@jupyter-widgets/controls",
      "_model_module_version": "1.5.0",
      "_model_name": "FloatProgressModel",
      "_view_count": null,
      "_view_module": "@jupyter-widgets/controls",
      "_view_module_version": "1.5.0",
      "_view_name": "ProgressView",
      "bar_style": "success",
      "description": "",
      "description_tooltip": null,
      "layout": "IPY_MODEL_5bd4bd455d46476bbbc139211c2f0e11",
      "max": 124,
      "min": 0,
      "orientation": "horizontal",
      "style": "IPY_MODEL_e28e278b14bd42bca6781520e58f2587",
      "value": 124
     }
    },
    "30bd4ca6b2e2416cb5ca7d5c1e0ff6ce": {
     "model_module": "@jupyter-widgets/controls",
     "model_module_version": "1.5.0",
     "model_name": "HBoxModel",
     "state": {
      "_dom_classes": [],
      "_model_module": "@jupyter-widgets/controls",
      "_model_module_version": "1.5.0",
      "_model_name": "HBoxModel",
      "_view_count": null,
      "_view_module": "@jupyter-widgets/controls",
      "_view_module_version": "1.5.0",
      "_view_name": "HBoxView",
      "box_style": "",
      "children": [
       "IPY_MODEL_0b10951f13314714a745df6a055647b4",
       "IPY_MODEL_27cb67089e614c3caa829e5356b35dad",
       "IPY_MODEL_ebc410f7af494e1b83fc26d1cc0ea8a6"
      ],
      "layout": "IPY_MODEL_aa241a5be4b54839bf1ffad06cee5653"
     }
    },
    "397156ef497844368d7e3b514405bc68": {
     "model_module": "@jupyter-widgets/base",
     "model_module_version": "1.2.0",
     "model_name": "LayoutModel",
     "state": {
      "_model_module": "@jupyter-widgets/base",
      "_model_module_version": "1.2.0",
      "_model_name": "LayoutModel",
      "_view_count": null,
      "_view_module": "@jupyter-widgets/base",
      "_view_module_version": "1.2.0",
      "_view_name": "LayoutView",
      "align_content": null,
      "align_items": null,
      "align_self": null,
      "border": null,
      "bottom": null,
      "display": null,
      "flex": null,
      "flex_flow": null,
      "grid_area": null,
      "grid_auto_columns": null,
      "grid_auto_flow": null,
      "grid_auto_rows": null,
      "grid_column": null,
      "grid_gap": null,
      "grid_row": null,
      "grid_template_areas": null,
      "grid_template_columns": null,
      "grid_template_rows": null,
      "height": null,
      "justify_content": null,
      "justify_items": null,
      "left": null,
      "margin": null,
      "max_height": null,
      "max_width": null,
      "min_height": null,
      "min_width": null,
      "object_fit": null,
      "object_position": null,
      "order": null,
      "overflow": null,
      "overflow_x": null,
      "overflow_y": null,
      "padding": null,
      "right": null,
      "top": null,
      "visibility": null,
      "width": null
     }
    },
    "4547967057a64d27831ec0af327b156a": {
     "model_module": "@jupyter-widgets/controls",
     "model_module_version": "1.5.0",
     "model_name": "HTMLModel",
     "state": {
      "_dom_classes": [],
      "_model_module": "@jupyter-widgets/controls",
      "_model_module_version": "1.5.0",
      "_model_name": "HTMLModel",
      "_view_count": null,
      "_view_module": "@jupyter-widgets/controls",
      "_view_module_version": "1.5.0",
      "_view_name": "HTMLView",
      "description": "",
      "description_tooltip": null,
      "layout": "IPY_MODEL_a0fffe7f5aa541b59423e17aafe6f781",
      "placeholder": "​",
      "style": "IPY_MODEL_73660515b5e943779b0f2638718765f6",
      "value": " 548M/548M [00:07&lt;00:00, 147MB/s]"
     }
    },
    "5bd4bd455d46476bbbc139211c2f0e11": {
     "model_module": "@jupyter-widgets/base",
     "model_module_version": "1.2.0",
     "model_name": "LayoutModel",
     "state": {
      "_model_module": "@jupyter-widgets/base",
      "_model_module_version": "1.2.0",
      "_model_name": "LayoutModel",
      "_view_count": null,
      "_view_module": "@jupyter-widgets/base",
      "_view_module_version": "1.2.0",
      "_view_name": "LayoutView",
      "align_content": null,
      "align_items": null,
      "align_self": null,
      "border": null,
      "bottom": null,
      "display": null,
      "flex": null,
      "flex_flow": null,
      "grid_area": null,
      "grid_auto_columns": null,
      "grid_auto_flow": null,
      "grid_auto_rows": null,
      "grid_column": null,
      "grid_gap": null,
      "grid_row": null,
      "grid_template_areas": null,
      "grid_template_columns": null,
      "grid_template_rows": null,
      "height": null,
      "justify_content": null,
      "justify_items": null,
      "left": null,
      "margin": null,
      "max_height": null,
      "max_width": null,
      "min_height": null,
      "min_width": null,
      "object_fit": null,
      "object_position": null,
      "order": null,
      "overflow": null,
      "overflow_x": null,
      "overflow_y": null,
      "padding": null,
      "right": null,
      "top": null,
      "visibility": null,
      "width": null
     }
    },
    "73660515b5e943779b0f2638718765f6": {
     "model_module": "@jupyter-widgets/controls",
     "model_module_version": "1.5.0",
     "model_name": "DescriptionStyleModel",
     "state": {
      "_model_module": "@jupyter-widgets/controls",
      "_model_module_version": "1.5.0",
      "_model_name": "DescriptionStyleModel",
      "_view_count": null,
      "_view_module": "@jupyter-widgets/base",
      "_view_module_version": "1.2.0",
      "_view_name": "StyleView",
      "description_width": ""
     }
    },
    "751e998e565149f2aeb91b654d479483": {
     "model_module": "@jupyter-widgets/base",
     "model_module_version": "1.2.0",
     "model_name": "LayoutModel",
     "state": {
      "_model_module": "@jupyter-widgets/base",
      "_model_module_version": "1.2.0",
      "_model_name": "LayoutModel",
      "_view_count": null,
      "_view_module": "@jupyter-widgets/base",
      "_view_module_version": "1.2.0",
      "_view_name": "LayoutView",
      "align_content": null,
      "align_items": null,
      "align_self": null,
      "border": null,
      "bottom": null,
      "display": null,
      "flex": null,
      "flex_flow": null,
      "grid_area": null,
      "grid_auto_columns": null,
      "grid_auto_flow": null,
      "grid_auto_rows": null,
      "grid_column": null,
      "grid_gap": null,
      "grid_row": null,
      "grid_template_areas": null,
      "grid_template_columns": null,
      "grid_template_rows": null,
      "height": null,
      "justify_content": null,
      "justify_items": null,
      "left": null,
      "margin": null,
      "max_height": null,
      "max_width": null,
      "min_height": null,
      "min_width": null,
      "object_fit": null,
      "object_position": null,
      "order": null,
      "overflow": null,
      "overflow_x": null,
      "overflow_y": null,
      "padding": null,
      "right": null,
      "top": null,
      "visibility": null,
      "width": null
     }
    },
    "763604d836424caeb97c61526060df58": {
     "model_module": "@jupyter-widgets/base",
     "model_module_version": "1.2.0",
     "model_name": "LayoutModel",
     "state": {
      "_model_module": "@jupyter-widgets/base",
      "_model_module_version": "1.2.0",
      "_model_name": "LayoutModel",
      "_view_count": null,
      "_view_module": "@jupyter-widgets/base",
      "_view_module_version": "1.2.0",
      "_view_name": "LayoutView",
      "align_content": null,
      "align_items": null,
      "align_self": null,
      "border": null,
      "bottom": null,
      "display": null,
      "flex": null,
      "flex_flow": null,
      "grid_area": null,
      "grid_auto_columns": null,
      "grid_auto_flow": null,
      "grid_auto_rows": null,
      "grid_column": null,
      "grid_gap": null,
      "grid_row": null,
      "grid_template_areas": null,
      "grid_template_columns": null,
      "grid_template_rows": null,
      "height": null,
      "justify_content": null,
      "justify_items": null,
      "left": null,
      "margin": null,
      "max_height": null,
      "max_width": null,
      "min_height": null,
      "min_width": null,
      "object_fit": null,
      "object_position": null,
      "order": null,
      "overflow": null,
      "overflow_x": null,
      "overflow_y": null,
      "padding": null,
      "right": null,
      "top": null,
      "visibility": null,
      "width": null
     }
    },
    "864fb7f2df754f1fa5c6e812181c01fa": {
     "model_module": "@jupyter-widgets/controls",
     "model_module_version": "1.5.0",
     "model_name": "DescriptionStyleModel",
     "state": {
      "_model_module": "@jupyter-widgets/controls",
      "_model_module_version": "1.5.0",
      "_model_name": "DescriptionStyleModel",
      "_view_count": null,
      "_view_module": "@jupyter-widgets/base",
      "_view_module_version": "1.2.0",
      "_view_name": "StyleView",
      "description_width": ""
     }
    },
    "8ec4794c9a5e44e0be71ce2aac545444": {
     "model_module": "@jupyter-widgets/base",
     "model_module_version": "1.2.0",
     "model_name": "LayoutModel",
     "state": {
      "_model_module": "@jupyter-widgets/base",
      "_model_module_version": "1.2.0",
      "_model_name": "LayoutModel",
      "_view_count": null,
      "_view_module": "@jupyter-widgets/base",
      "_view_module_version": "1.2.0",
      "_view_name": "LayoutView",
      "align_content": null,
      "align_items": null,
      "align_self": null,
      "border": null,
      "bottom": null,
      "display": null,
      "flex": null,
      "flex_flow": null,
      "grid_area": null,
      "grid_auto_columns": null,
      "grid_auto_flow": null,
      "grid_auto_rows": null,
      "grid_column": null,
      "grid_gap": null,
      "grid_row": null,
      "grid_template_areas": null,
      "grid_template_columns": null,
      "grid_template_rows": null,
      "height": null,
      "justify_content": null,
      "justify_items": null,
      "left": null,
      "margin": null,
      "max_height": null,
      "max_width": null,
      "min_height": null,
      "min_width": null,
      "object_fit": null,
      "object_position": null,
      "order": null,
      "overflow": null,
      "overflow_x": null,
      "overflow_y": null,
      "padding": null,
      "right": null,
      "top": null,
      "visibility": null,
      "width": null
     }
    },
    "91053800c04744d3a3c93d75f291aeec": {
     "model_module": "@jupyter-widgets/controls",
     "model_module_version": "1.5.0",
     "model_name": "ProgressStyleModel",
     "state": {
      "_model_module": "@jupyter-widgets/controls",
      "_model_module_version": "1.5.0",
      "_model_name": "ProgressStyleModel",
      "_view_count": null,
      "_view_module": "@jupyter-widgets/base",
      "_view_module_version": "1.2.0",
      "_view_name": "StyleView",
      "bar_color": null,
      "description_width": ""
     }
    },
    "a0fffe7f5aa541b59423e17aafe6f781": {
     "model_module": "@jupyter-widgets/base",
     "model_module_version": "1.2.0",
     "model_name": "LayoutModel",
     "state": {
      "_model_module": "@jupyter-widgets/base",
      "_model_module_version": "1.2.0",
      "_model_name": "LayoutModel",
      "_view_count": null,
      "_view_module": "@jupyter-widgets/base",
      "_view_module_version": "1.2.0",
      "_view_name": "LayoutView",
      "align_content": null,
      "align_items": null,
      "align_self": null,
      "border": null,
      "bottom": null,
      "display": null,
      "flex": null,
      "flex_flow": null,
      "grid_area": null,
      "grid_auto_columns": null,
      "grid_auto_flow": null,
      "grid_auto_rows": null,
      "grid_column": null,
      "grid_gap": null,
      "grid_row": null,
      "grid_template_areas": null,
      "grid_template_columns": null,
      "grid_template_rows": null,
      "height": null,
      "justify_content": null,
      "justify_items": null,
      "left": null,
      "margin": null,
      "max_height": null,
      "max_width": null,
      "min_height": null,
      "min_width": null,
      "object_fit": null,
      "object_position": null,
      "order": null,
      "overflow": null,
      "overflow_x": null,
      "overflow_y": null,
      "padding": null,
      "right": null,
      "top": null,
      "visibility": null,
      "width": null
     }
    },
    "a36322073ff74d87a6b781018491bbc9": {
     "model_module": "@jupyter-widgets/controls",
     "model_module_version": "1.5.0",
     "model_name": "HTMLModel",
     "state": {
      "_dom_classes": [],
      "_model_module": "@jupyter-widgets/controls",
      "_model_module_version": "1.5.0",
      "_model_name": "HTMLModel",
      "_view_count": null,
      "_view_module": "@jupyter-widgets/controls",
      "_view_module_version": "1.5.0",
      "_view_name": "HTMLView",
      "description": "",
      "description_tooltip": null,
      "layout": "IPY_MODEL_a8fe017a21c144d0a2ecd956853896eb",
      "placeholder": "​",
      "style": "IPY_MODEL_f5d62a1b5f904fcdb8862b94495fd22f",
      "value": "model.safetensors: 100%"
     }
    },
    "a8fe017a21c144d0a2ecd956853896eb": {
     "model_module": "@jupyter-widgets/base",
     "model_module_version": "1.2.0",
     "model_name": "LayoutModel",
     "state": {
      "_model_module": "@jupyter-widgets/base",
      "_model_module_version": "1.2.0",
      "_model_name": "LayoutModel",
      "_view_count": null,
      "_view_module": "@jupyter-widgets/base",
      "_view_module_version": "1.2.0",
      "_view_name": "LayoutView",
      "align_content": null,
      "align_items": null,
      "align_self": null,
      "border": null,
      "bottom": null,
      "display": null,
      "flex": null,
      "flex_flow": null,
      "grid_area": null,
      "grid_auto_columns": null,
      "grid_auto_flow": null,
      "grid_auto_rows": null,
      "grid_column": null,
      "grid_gap": null,
      "grid_row": null,
      "grid_template_areas": null,
      "grid_template_columns": null,
      "grid_template_rows": null,
      "height": null,
      "justify_content": null,
      "justify_items": null,
      "left": null,
      "margin": null,
      "max_height": null,
      "max_width": null,
      "min_height": null,
      "min_width": null,
      "object_fit": null,
      "object_position": null,
      "order": null,
      "overflow": null,
      "overflow_x": null,
      "overflow_y": null,
      "padding": null,
      "right": null,
      "top": null,
      "visibility": null,
      "width": null
     }
    },
    "aa241a5be4b54839bf1ffad06cee5653": {
     "model_module": "@jupyter-widgets/base",
     "model_module_version": "1.2.0",
     "model_name": "LayoutModel",
     "state": {
      "_model_module": "@jupyter-widgets/base",
      "_model_module_version": "1.2.0",
      "_model_name": "LayoutModel",
      "_view_count": null,
      "_view_module": "@jupyter-widgets/base",
      "_view_module_version": "1.2.0",
      "_view_name": "LayoutView",
      "align_content": null,
      "align_items": null,
      "align_self": null,
      "border": null,
      "bottom": null,
      "display": null,
      "flex": null,
      "flex_flow": null,
      "grid_area": null,
      "grid_auto_columns": null,
      "grid_auto_flow": null,
      "grid_auto_rows": null,
      "grid_column": null,
      "grid_gap": null,
      "grid_row": null,
      "grid_template_areas": null,
      "grid_template_columns": null,
      "grid_template_rows": null,
      "height": null,
      "justify_content": null,
      "justify_items": null,
      "left": null,
      "margin": null,
      "max_height": null,
      "max_width": null,
      "min_height": null,
      "min_width": null,
      "object_fit": null,
      "object_position": null,
      "order": null,
      "overflow": null,
      "overflow_x": null,
      "overflow_y": null,
      "padding": null,
      "right": null,
      "top": null,
      "visibility": null,
      "width": null
     }
    },
    "e28e278b14bd42bca6781520e58f2587": {
     "model_module": "@jupyter-widgets/controls",
     "model_module_version": "1.5.0",
     "model_name": "ProgressStyleModel",
     "state": {
      "_model_module": "@jupyter-widgets/controls",
      "_model_module_version": "1.5.0",
      "_model_name": "ProgressStyleModel",
      "_view_count": null,
      "_view_module": "@jupyter-widgets/base",
      "_view_module_version": "1.2.0",
      "_view_name": "StyleView",
      "bar_color": null,
      "description_width": ""
     }
    },
    "e5062b049dcb484ebd52cc019d6f7e29": {
     "model_module": "@jupyter-widgets/controls",
     "model_module_version": "1.5.0",
     "model_name": "FloatProgressModel",
     "state": {
      "_dom_classes": [],
      "_model_module": "@jupyter-widgets/controls",
      "_model_module_version": "1.5.0",
      "_model_name": "FloatProgressModel",
      "_view_count": null,
      "_view_module": "@jupyter-widgets/controls",
      "_view_module_version": "1.5.0",
      "_view_name": "ProgressView",
      "bar_style": "success",
      "description": "",
      "description_tooltip": null,
      "layout": "IPY_MODEL_8ec4794c9a5e44e0be71ce2aac545444",
      "max": 548105171,
      "min": 0,
      "orientation": "horizontal",
      "style": "IPY_MODEL_91053800c04744d3a3c93d75f291aeec",
      "value": 548105171
     }
    },
    "ebc410f7af494e1b83fc26d1cc0ea8a6": {
     "model_module": "@jupyter-widgets/controls",
     "model_module_version": "1.5.0",
     "model_name": "HTMLModel",
     "state": {
      "_dom_classes": [],
      "_model_module": "@jupyter-widgets/controls",
      "_model_module_version": "1.5.0",
      "_model_name": "HTMLModel",
      "_view_count": null,
      "_view_module": "@jupyter-widgets/controls",
      "_view_module_version": "1.5.0",
      "_view_name": "HTMLView",
      "description": "",
      "description_tooltip": null,
      "layout": "IPY_MODEL_763604d836424caeb97c61526060df58",
      "placeholder": "​",
      "style": "IPY_MODEL_864fb7f2df754f1fa5c6e812181c01fa",
      "value": " 124/124 [00:00&lt;00:00, 9.09kB/s]"
     }
    },
    "ef8b198cd86040d18d1f81deb896e6d7": {
     "model_module": "@jupyter-widgets/controls",
     "model_module_version": "1.5.0",
     "model_name": "HBoxModel",
     "state": {
      "_dom_classes": [],
      "_model_module": "@jupyter-widgets/controls",
      "_model_module_version": "1.5.0",
      "_model_name": "HBoxModel",
      "_view_count": null,
      "_view_module": "@jupyter-widgets/controls",
      "_view_module_version": "1.5.0",
      "_view_name": "HBoxView",
      "box_style": "",
      "children": [
       "IPY_MODEL_a36322073ff74d87a6b781018491bbc9",
       "IPY_MODEL_e5062b049dcb484ebd52cc019d6f7e29",
       "IPY_MODEL_4547967057a64d27831ec0af327b156a"
      ],
      "layout": "IPY_MODEL_751e998e565149f2aeb91b654d479483"
     }
    },
    "f5d62a1b5f904fcdb8862b94495fd22f": {
     "model_module": "@jupyter-widgets/controls",
     "model_module_version": "1.5.0",
     "model_name": "DescriptionStyleModel",
     "state": {
      "_model_module": "@jupyter-widgets/controls",
      "_model_module_version": "1.5.0",
      "_model_name": "DescriptionStyleModel",
      "_view_count": null,
      "_view_module": "@jupyter-widgets/base",
      "_view_module_version": "1.2.0",
      "_view_name": "StyleView",
      "description_width": ""
     }
    }
   }
  }
 },
 "nbformat": 4,
 "nbformat_minor": 5
}
