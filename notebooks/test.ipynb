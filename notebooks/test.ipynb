{
 "cells": [
  {
   "cell_type": "code",
   "execution_count": null,
   "id": "initial_id",
   "metadata": {
    "collapsed": true
   },
   "outputs": [],
   "source": [
    "import torch\n",
    "from transformers import GPT2LMHeadModel, GPT2Tokenizer"
   ]
  },
  {
   "cell_type": "code",
   "execution_count": null,
   "id": "d1330ef7c2c2260a",
   "metadata": {},
   "outputs": [],
   "source": [
    "model = GPT2LMHeadModel.from_pretrained(\"/home/spring/Desktop/workspace/llm-discord/gpt2-conversational-fine-tune/final-save\").to(\"cuda\")\n",
    "tokenizer = GPT2Tokenizer.from_pretrained(\"/home/spring/Desktop/workspace/llm-discord/gpt2-conversational-fine-tune/final-save\")"
   ]
  },
  {
   "cell_type": "code",
   "execution_count": null,
   "id": "eec7cfce1e4f6fb9",
   "metadata": {},
   "outputs": [],
   "source": [
    "def generate_response(prompt, model, tokenizer, temperature=0.7):\n",
    "    inputs = tokenizer(prompt, return_tensors=\"pt\", truncation=True, padding=True).to(\"cuda\")\n",
    "    \n",
    "    # Generate a response\n",
    "    output = model.generate(\n",
    "        inputs.input_ids,\n",
    "        pad_token_id=tokenizer.eos_token_id,\n",
    "        eos_token_id=tokenizer.eos_token_id,\n",
    "        do_sample=True,\n",
    "        temperature=temperature,\n",
    "    )\n",
    "    \n",
    "    # Decode the generated text\n",
    "    return tokenizer.decode(output[0], skip_special_tokens=True)\n"
   ]
  },
  {
   "cell_type": "code",
   "execution_count": 20,
   "id": "54cf813ba0bc5cc2",
   "metadata": {},
   "outputs": [
    {
     "name": "stdout",
     "output_type": "stream",
     "text": [
      "Response: <USER> What are your thoughts on the temperature right now? <BOT> I think the sun is going to set on Monday. Im super hyped for that one, but\n"
     ]
    }
   ],
   "source": [
    "prompt = f\"<USER> {input(\"Enter Prompt: \")}{tokenizer.eos_token} <BOT>\"\n",
    "response = generate_response(prompt, model, tokenizer)\n",
    "\n",
    "print(\"Response:\", response)"
   ]
  },
  {
   "cell_type": "code",
   "execution_count": null,
   "id": "4f4537db",
   "metadata": {},
   "outputs": [],
   "source": []
  }
 ],
 "metadata": {
  "kernelspec": {
   "display_name": ".venv",
   "language": "python",
   "name": "python3"
  },
  "language_info": {
   "codemirror_mode": {
    "name": "ipython",
    "version": 3
   },
   "file_extension": ".py",
   "mimetype": "text/x-python",
   "name": "python",
   "nbconvert_exporter": "python",
   "pygments_lexer": "ipython3",
   "version": "3.12.7"
  }
 },
 "nbformat": 4,
 "nbformat_minor": 5
}
